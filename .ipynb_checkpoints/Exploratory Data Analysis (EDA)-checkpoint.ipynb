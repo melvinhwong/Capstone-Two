{
 "cells": [
  {
   "cell_type": "markdown",
   "id": "065899df",
   "metadata": {},
   "source": [
    "Data Collection"
   ]
  },
  {
   "cell_type": "code",
   "execution_count": null,
   "id": "daddf132",
   "metadata": {
    "scrolled": true
   },
   "outputs": [],
   "source": [
    "import numpy as np\n",
    "import pandas as pd\n",
    "import matplotlib.pyplot as plt\n",
    "import seaborn as sns\n",
    "!pip install haversine\n",
    "import haversine as hs"
   ]
  },
  {
   "cell_type": "code",
   "execution_count": null,
   "id": "c1612cd0",
   "metadata": {
    "scrolled": false
   },
   "outputs": [],
   "source": [
    "df = pd.read_csv(r\"C:\\Users\\Melvin Wong\\DataScience\\Springboard\\Github\\Dataset\\archive\\fraudTest.csv\")\n",
    "df.head()"
   ]
  },
  {
   "cell_type": "markdown",
   "id": "d6aa1d16",
   "metadata": {},
   "source": [
    "Data definition"
   ]
  },
  {
   "cell_type": "code",
   "execution_count": null,
   "id": "0805a756",
   "metadata": {
    "scrolled": true
   },
   "outputs": [],
   "source": [
    "df.columns"
   ]
  },
  {
   "cell_type": "code",
   "execution_count": null,
   "id": "aabb32b3",
   "metadata": {
    "scrolled": true
   },
   "outputs": [],
   "source": [
    "df.dtypes"
   ]
  },
  {
   "cell_type": "code",
   "execution_count": null,
   "id": "cd586d6b",
   "metadata": {
    "scrolled": true
   },
   "outputs": [],
   "source": [
    "df.describe()"
   ]
  },
  {
   "cell_type": "code",
   "execution_count": null,
   "id": "5272b75c",
   "metadata": {
    "scrolled": false
   },
   "outputs": [],
   "source": [
    "#unique number of CC with fraud\n",
    "df.groupby('cc_num')['is_fraud'].nunique()"
   ]
  },
  {
   "cell_type": "markdown",
   "id": "ca598f03",
   "metadata": {},
   "source": [
    "Data Cleaning"
   ]
  },
  {
   "cell_type": "code",
   "execution_count": null,
   "id": "98f15489",
   "metadata": {},
   "outputs": [],
   "source": [
    "df.columns"
   ]
  },
  {
   "cell_type": "code",
   "execution_count": null,
   "id": "88caea13",
   "metadata": {},
   "outputs": [],
   "source": [
    "df.drop(columns=['Unnamed: 0','street','state','first','last','trans_num','unix_time'],inplace=True)"
   ]
  },
  {
   "cell_type": "code",
   "execution_count": null,
   "id": "1c20fa4b",
   "metadata": {
    "scrolled": true
   },
   "outputs": [],
   "source": [
    "df.columns"
   ]
  },
  {
   "cell_type": "code",
   "execution_count": null,
   "id": "2f20dc46",
   "metadata": {},
   "outputs": [],
   "source": []
  },
  {
   "cell_type": "code",
   "execution_count": null,
   "id": "1bedf2b2",
   "metadata": {
    "scrolled": true
   },
   "outputs": [],
   "source": [
    "#counts the null values for each column \n",
    "df.isnull().sum()"
   ]
  },
  {
   "cell_type": "code",
   "execution_count": null,
   "id": "1bf37c56",
   "metadata": {
    "scrolled": true
   },
   "outputs": [],
   "source": [
    "#moving the date next to the trans_date_trans_time\n",
    "df['trans_date'] = pd.to_datetime(df['trans_date_trans_time'])\n",
    "df['trans_date'] = df['trans_date'].dt.date\n",
    "column_to_move = df['trans_date']\n",
    "df.insert(1, 'date', column_to_move)\n",
    "df"
   ]
  },
  {
   "cell_type": "code",
   "execution_count": null,
   "id": "2f92ed3c",
   "metadata": {},
   "outputs": [],
   "source": [
    "#function to calculate distance\n",
    "from math import radians, cos, sin, asin, sqrt\n",
    "\n",
    "def haversine(lat1, lon1, lat2, lon2):\n",
    "    R = 6371  # Radius of the Earth in kilometers\n",
    "    dlat = np.radians(lat2 - lat1)\n",
    "    dlon = np.radians(lon2 - lon1)\n",
    "    a = np.sin(dlat/2) * np.sin(dlat/2) + np.cos(np.radians(lat1)) * np.cos(np.radians(lat2)) * np.sin(dlon/2) * np.sin(dlon/2)\n",
    "    c = 2 * np.arctan2(np.sqrt(a), np.sqrt(1-a))\n",
    "    distance = R * c\n",
    "    return distance"
   ]
  },
  {
   "cell_type": "code",
   "execution_count": null,
   "id": "893a84e6",
   "metadata": {},
   "outputs": [],
   "source": [
    "#calculating the dstiance from merchant location and customer location\n",
    "distances = []\n",
    "for index, row in df.iterrows():\n",
    "    customer_lat = row['lat']\n",
    "    customer_lon = row['long']\n",
    "    merchant_lat = row['merch_lat']\n",
    "    merchant_lon = row['merch_long']\n",
    "    distance = haversine(customer_lat, customer_lon, merchant_lat, merchant_lon)\n",
    "    distances.append(distance)\n",
    "df['distance'] = distances"
   ]
  },
  {
   "cell_type": "code",
   "execution_count": null,
   "id": "9612d88f",
   "metadata": {},
   "outputs": [],
   "source": [
    "df"
   ]
  },
  {
   "cell_type": "code",
   "execution_count": null,
   "id": "bdd07aac",
   "metadata": {},
   "outputs": [],
   "source": [
    "#max years and min years\n",
    "print(np.max(df['date']))\n",
    "print(np.min(df['date']))"
   ]
  },
  {
   "cell_type": "code",
   "execution_count": null,
   "id": "d712ca88",
   "metadata": {
    "scrolled": false
   },
   "outputs": [],
   "source": [
    "#count of average per category\n",
    "df1 = df[['category','amt']]\n",
    "df1.groupby(['category']).mean()"
   ]
  },
  {
   "cell_type": "code",
   "execution_count": null,
   "id": "0d7e2b2d",
   "metadata": {
    "scrolled": true
   },
   "outputs": [],
   "source": [
    "#count of fraud per category\n",
    "df['category'].value_counts()"
   ]
  },
  {
   "cell_type": "markdown",
   "id": "b8dcfee5",
   "metadata": {},
   "source": [
    "Exploratory Data Analysis\n"
   ]
  },
  {
   "cell_type": "code",
   "execution_count": null,
   "id": "ba2746df",
   "metadata": {
    "scrolled": false
   },
   "outputs": [],
   "source": [
    "plt.figure(figsize=(8,4))\n",
    "ax = sns.countplot(data = df, x = 'category')\n",
    "ax.set_xticklabels(ax.get_xticklabels(), rotation=40, ha=\"right\")\n",
    "plt.tight_layout()\n",
    "plt.show()"
   ]
  },
  {
   "cell_type": "code",
   "execution_count": null,
   "id": "17737175",
   "metadata": {
    "scrolled": false
   },
   "outputs": [],
   "source": [
    "# % of fraud \n",
    "fraud_df = df[df['is_fraud']==1]\n",
    "fraud_df.dtypes\n",
    "fraud_df['category']\n",
    "ax1 = sns.countplot(data = fraud_df, x= 'category')\n",
    "ax1.set_xticklabels(ax1.get_xticklabels(), rotation=40, ha=\"right\")\n",
    "plt.tight_layout()\n",
    "plt.show()"
   ]
  },
  {
   "cell_type": "code",
   "execution_count": null,
   "id": "c602c59c",
   "metadata": {
    "scrolled": true
   },
   "outputs": [],
   "source": [
    "fraud_df"
   ]
  },
  {
   "cell_type": "code",
   "execution_count": null,
   "id": "f12dc6a0",
   "metadata": {
    "scrolled": true
   },
   "outputs": [],
   "source": [
    "fraud_df['distance'].describe()"
   ]
  },
  {
   "cell_type": "code",
   "execution_count": null,
   "id": "5efcd1f0",
   "metadata": {},
   "outputs": [],
   "source": [
    "shopping_net_df = fraud_df[fraud_df['category'] == 'shopping_net']"
   ]
  },
  {
   "cell_type": "code",
   "execution_count": null,
   "id": "7d33a9d5",
   "metadata": {
    "scrolled": false
   },
   "outputs": [],
   "source": [
    "plt.figure(figsize=(10, 6))\n",
    "sns.histplot(shopping_net_df['distance'], bins=10, kde=True, color='skyblue')\n",
    "plt.xlabel('Distance (km)')\n",
    "plt.ylabel('Frequency')\n",
    "plt.title('Histogram of Distance for \"shopping_net\" Category')\n",
    "plt.grid(True)\n",
    "plt.show()"
   ]
  },
  {
   "cell_type": "code",
   "execution_count": null,
   "id": "e31c7ce2",
   "metadata": {},
   "outputs": [],
   "source": [
    "grocery_pos_df = fraud_df[fraud_df['category'] == 'grocery_pos']"
   ]
  },
  {
   "cell_type": "code",
   "execution_count": null,
   "id": "977b8841",
   "metadata": {
    "scrolled": false
   },
   "outputs": [],
   "source": [
    "plt.figure(figsize=(10, 6))\n",
    "sns.histplot(grocery_pos_df['distance'], bins=10, kde=True, color='skyblue')\n",
    "plt.xlabel('Distance (km)')\n",
    "plt.ylabel('Frequency')\n",
    "plt.title('Histogram of Distance for \"shopping_net\" Category')\n",
    "plt.grid(True)\n",
    "plt.show()"
   ]
  },
  {
   "cell_type": "code",
   "execution_count": null,
   "id": "7e6dbecc",
   "metadata": {},
   "outputs": [],
   "source": [
    "misc_net_df = fraud_df[fraud_df['category'] == 'misc_net']"
   ]
  },
  {
   "cell_type": "code",
   "execution_count": null,
   "id": "57d0a078",
   "metadata": {},
   "outputs": [],
   "source": [
    "plt.figure(figsize=(10, 6))\n",
    "sns.histplot(misc_net_df['distance'], bins=10, kde=True, color='skyblue')\n",
    "plt.xlabel('Distance (km)')\n",
    "plt.ylabel('Frequency')\n",
    "plt.title('Histogram of Distance for \"shopping_net\" Category')\n",
    "plt.grid(True)\n",
    "plt.show()"
   ]
  },
  {
   "cell_type": "code",
   "execution_count": null,
   "id": "0869a47e",
   "metadata": {},
   "outputs": [],
   "source": [
    "from datetime import datetime\n",
    "\n",
    "def day_of_week(date_str):\n",
    "    # Assuming date_str is in the format 'YYYY-MM-DD'\n",
    "    date_object = datetime.strptime(date_str, '%Y-%m-%d')\n",
    "    day_index = date_object.weekday()\n",
    "    days = [\"Monday\", \"Tuesday\", \"Wednesday\", \"Thursday\", \"Friday\", \"Saturday\", \"Sunday\"]\n",
    "    return days[day_index]"
   ]
  },
  {
   "cell_type": "code",
   "execution_count": null,
   "id": "bb1fff78",
   "metadata": {},
   "outputs": [],
   "source": [
    "import pandas as pd\n",
    "\n",
    "day_of_week_list = []\n",
    "for index, row in fraud_df.iterrows():\n",
    "    date_object = row['date']  # Assuming 'date' is the column containing datetime.date objects\n",
    "    day_index = date_object.weekday()\n",
    "    days = [\"Monday\", \"Tuesday\", \"Wednesday\", \"Thursday\", \"Friday\", \"Saturday\", \"Sunday\"]\n",
    "    day_of_week_list.append(days[day_index])\n",
    "\n",
    "# Create a new DataFrame with the 'day_of_week' column\n",
    "df = pd.DataFrame(day_of_week_list, columns=['day_of_week'])\n",
    "\n",
    "# Concatenate the new DataFrame with the original fraud_df\n",
    "df = pd.concat([fraud_df, df], axis=1)"
   ]
  },
  {
   "cell_type": "code",
   "execution_count": null,
   "id": "9c13322d",
   "metadata": {
    "scrolled": true
   },
   "outputs": [],
   "source": [
    "df"
   ]
  },
  {
   "cell_type": "code",
   "execution_count": null,
   "id": "e9ca4daa",
   "metadata": {},
   "outputs": [],
   "source": [
    "cleaned_df = df.dropna()"
   ]
  },
  {
   "cell_type": "code",
   "execution_count": null,
   "id": "8f0246ba",
   "metadata": {
    "scrolled": false
   },
   "outputs": [],
   "source": [
    "cleaned_df"
   ]
  },
  {
   "cell_type": "code",
   "execution_count": null,
   "id": "25f585f0",
   "metadata": {},
   "outputs": [],
   "source": [
    "day_of_week_counts = df['day_of_week'].value_counts()"
   ]
  },
  {
   "cell_type": "code",
   "execution_count": null,
   "id": "35f8e633",
   "metadata": {
    "scrolled": true
   },
   "outputs": [],
   "source": [
    "plt.bar(day_of_week_counts.index, day_of_week_counts.values)\n",
    "plt.xlabel('Day of Week')\n",
    "plt.ylabel('Count')\n",
    "plt.title('Occurrences of Each Day of the Week')\n",
    "plt.xticks(rotation=45)\n",
    "\n",
    "plt.show()"
   ]
  },
  {
   "cell_type": "markdown",
   "id": "20bdc663",
   "metadata": {},
   "source": [
    "Pre-processing and Training Data Development"
   ]
  },
  {
   "cell_type": "code",
   "execution_count": null,
   "id": "3109aaaf",
   "metadata": {},
   "outputs": [],
   "source": [
    "X_train, X_test, y_train, y_test = train_test_split(ski_data.drop(columns='AdultWeekend'), \n",
    "                                                    ski_data.AdultWeekend, test_size=0.3, \n",
    "                                                    random_state=47)"
   ]
  }
 ],
 "metadata": {
  "kernelspec": {
   "display_name": "Python 3 (ipykernel)",
   "language": "python",
   "name": "python3"
  },
  "language_info": {
   "codemirror_mode": {
    "name": "ipython",
    "version": 3
   },
   "file_extension": ".py",
   "mimetype": "text/x-python",
   "name": "python",
   "nbconvert_exporter": "python",
   "pygments_lexer": "ipython3",
   "version": "3.11.5"
  }
 },
 "nbformat": 4,
 "nbformat_minor": 5
}
